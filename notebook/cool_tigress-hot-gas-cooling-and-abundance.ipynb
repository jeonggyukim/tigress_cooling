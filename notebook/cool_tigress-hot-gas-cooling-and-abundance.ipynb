{
 "cells": [
  {
   "cell_type": "markdown",
   "metadata": {},
   "source": [
    "# Wiersma+2009 cooling table\n",
    "\n",
    "Data from:\n",
    "\n",
    "https://www.strw.leidenuniv.nl/WSS08\n",
    "\n",
    "https://www.strw.leidenuniv.nl/WSS08/z_collis.txt\n",
    "\n",
    "https://www.strw.leidenuniv.nl/WSS08/coolingtables_highres.tar.gz"
   ]
  },
  {
   "cell_type": "code",
   "execution_count": 3,
   "metadata": {},
   "outputs": [],
   "source": [
    "import sys\n",
    "sys.path.insert(0, '../python')\n",
    "import cool_tigress as ct"
   ]
  },
  {
   "cell_type": "code",
   "execution_count": 138,
   "metadata": {},
   "outputs": [],
   "source": [
    "# # %load '../data/Wiersma09_z_collis_README.txt'\n",
    "\n",
    "# This file contains Collisional Ionization Equilibrium net cooling rates generated \n",
    "# with CLOUDY (version 07.02). For a description of the methods used, see \n",
    "\n",
    "# Wiersma, R. P. C., Schaye, J., and Smith, B. D. 2008, MNRAS, 2009,\n",
    "# 393, 99\n",
    "\n",
    "# Note that this file contains slightly less information than our hdf5 equivalent (found also on \n",
    "# our site - http://www.strw.leidenuniv.nl/WSS08), but we post this for the convenience of the \n",
    "# user.\n",
    "\n",
    "# column 1: T [K]\n",
    "# column 2: Lambda/n_H^2 [erg s-1 cm^3] (nhe/nh = 0.0786528)\n",
    "# column 3: ne/nh (nhe/nh = 0.0786528)\n",
    "# column 4: Lambda/n_H^2 [erg s-1 cm^3] (nhe/nh = 0.0830474)\n",
    "# column 5: ne/nh (nhe/nh = 0.0830474)\n",
    "# column 6: Lambda/n_H^2 [erg s-1 cm^3] (nhe/nh = 0.0875605)\n",
    "# column 7: ne/nh (nhe/nh = 0.0875605)\n",
    "# column 8: Lambda/n_H^2 [erg s-1 cm^3] (nhe/nh = 0.0921968)\n",
    "# column 9: ne/nh (nhe/nh = 0.0921968)\n",
    "# column 10: Lambda/n_H^2 [erg s-1 cm^3] (nhe/nh = 0.0969616)\n",
    "# column 11: ne/nh (nhe/nh = 0.0969616)\n",
    "# column 12: Lambda/n_H^2 [erg s-1 cm^3] (nhe/nh = 0.10186)\n",
    "# column 13: ne/nh (nhe/nh = 0.10186)\n",
    "# column 14: Lambda/n_H^2 [erg s-1 cm^3] (nhe/nh = 0.106898)\n",
    "# column 15: ne/nh (nhe/nh = 0.106898)\n",
    "# column 16: Lambda/n_H^2 [erg s-1 cm^3] (metals only)\n",
    "# column 17: Lambda/n_H^2 [erg s-1 cm^3] (C only)\n",
    "# column 18: Lambda/n_H^2 [erg s-1 cm^3] (N only)\n",
    "# column 19: Lambda/n_H^2 [erg s-1 cm^3] (O only)\n",
    "# column 20: Lambda/n_H^2 [erg s-1 cm^3] (Ne only)\n",
    "# column 21: Lambda/n_H^2 [erg s-1 cm^3] (Mg only)\n",
    "# column 22  Lambda/n_H^2 [erg s-1 cm^3] (Si only)\n",
    "# column 23  Lambda/n_H^2 [erg s-1 cm^3] (S only)\n",
    "# column 24  Lambda/n_H^2 [erg s-1 cm^3] (Ca only)\n",
    "# column 25  Lambda/n_H^2 [erg s-1 cm^3] (Fe only)\n"
   ]
  },
  {
   "cell_type": "markdown",
   "metadata": {},
   "source": [
    "# %load '../../CoolingRoutines/CoolingTables/readme'\n",
    "\n",
    "The archive contains files that give net cooling rates due to various\n",
    "elements as a function of density, temperature, and redshift. Each\n",
    "file is encoded using the HDF5 format\n",
    "(http://hdf.ncsa.uiuc.edu/HDF5/).\n",
    "\n",
    "For a description of the methods used, see \n",
    "\n",
    "Wiersma, R. P. C., Schaye, J., and Smith, B. D. 2009, MNRAS, 393, 99\n",
    "\n",
    "The gas was exposed to the (redshift-dependent) Haardt & Madau (2001,\n",
    "hereafter HM01) UV/X-ray background from quasars and galaxies and the\n",
    "(redshift-dependent) cosmic microwave background (CMB). The gas was\n",
    "assumed to be optically thin and in ionization equilibrium.\n",
    "\n",
    "The redshift range is identical to that of the HM01 model: z = 0\n",
    "through z = 8.989. Every file is named for the redshift it represents,\n",
    "with the exception of the following files:\n",
    "\n",
    "-z_8.989nocompton.hdf5: This file contains net cooling rates for the z\n",
    "       = 8.989 UV/X-ray background, but without the CMB. Such a table\n",
    "       could be used in a pre z=9, but post-reionization universe (one\n",
    "       should then add redshift-dependent Compton cooling off the CMB\n",
    "       analytically).\n",
    "\n",
    "-z_photodis.hdf5: This file contains net cooling rates computed using\n",
    "       a soft, non-ionizing UV background. It was computed for the z =\n",
    "       8.989 HM01 background but with the spectrum cut-off at 1\n",
    "       Ryd. The CMB was not included. This background dissociates\n",
    "       molecules, but does not contain H-ionizing radiation. It could\n",
    "       for example be used in the pre-reionization universe (one\n",
    "       should then add redshift-dependent Compton cooling off the CMB\n",
    "       analytically).\n",
    "\n",
    "In addition, we provide the following redshift-independent file:\n",
    "\n",
    "-z_collis.hdf5: This file contains net cooling rates computed assuming\n",
    "       collisional ionization equilbrium and no CMB. Note that 'no induced \n",
    "       processes' was not used in this table (all other tables were made with \n",
    "       this command) since it caused cloudy to crash.\n",
    "\n",
    "Each file contains groups corresponding to the different elements\n",
    "(e.g., \"/Carbon\"). Hydrogen and helium are considered simultaneously\n",
    "in the group \"/Metal_free\". The different contributions to the cooling\n",
    "rates can be combined and scaled to the desired abundances as\n",
    "described in WSS08 (eq. 3).\n",
    "\n",
    "All metals (not just the ones we do separately) are considered\n",
    "simultaneously in the group \"/Total_Metals\". This latter table is useful if\n",
    "the metallicity is known, but not the abundances of individual\n",
    "elements.  The metal and H&He contributions to the cooling rates can\n",
    "be combined and scaled to the desired metallicity as described in\n",
    "WSS08 (eq. 4).\n",
    "\n",
    "The group \"/Header\" contains some useful meta-data and the group\n",
    "\"/Solar\" considers all elements simultaneously (assuming solar\n",
    "abundances).\n",
    "\n",
    "The tables were prepared using the Haardt and Madau (2001) quasars and\n",
    "galaxies spectrum, and CLOUDY (last described in Ferland et al. 1998)\n",
    "version 07.02. \n",
    "\n",
    "The ranges of the tables are as follows:\n",
    "Temperature: 100 K - 9.1612998e8 K\n",
    "Hydrogen density: 1 cm^-3 - 1e-8 cm^-3\n",
    "Redshift: 0 - 8.989\n",
    "Helium mass fraction (Helium number ratio): 0.238 - 0.298 (0.07865282 - \n",
    "0.10689845)\n",
    "Energy density: 1e10 erg/g - 1e18 erg/g\n",
    "\n",
    "Our website (http://www.strw.leidenuniv.nl/WSS08/) contains many sample \n",
    "scripts to give an idea as to how to use the tables\n",
    "\n",
    "References:\n",
    "\n",
    "Haardt, F. and Madau, P., 2001, Clusters of galaxies and the high\n",
    "redshift universe observed in X-rays, Recent results of XMM-Newton and\n",
    "Chandra, XXXVIth Rencontres de Moriond , XXIst Moriond Astrophysics\n",
    "Meeting, March 10-17, 2001 Savoie, France.   \n",
    "\n",
    "Ferland et al., 1998, PASP, 110, 761\n",
    "\n",
    "______________________________________________________________________________\n",
    "\n",
    "What follows is a item-by-item description of each entry in the table,\n",
    "complete with units.\n",
    "\n",
    "/Header (Group)                            \n",
    "       Contains meta data.\n",
    "\n",
    "/Header/Abundances (Group)                 \n",
    "       Abundances subgroup\n",
    "\n",
    "/Header/Abundances/Abund_names             \n",
    "       Names of all the elements in the list\n",
    "       /Header/Abundances/Solar_abundances and\n",
    "       /Header/Abundances/Solar_number_abundances\n",
    "\n",
    "/Header/Abundances/Number_of_abundances\n",
    "       Number of entries in /Header/Abundances/Solar_abundances and\n",
    "       /Header/Abundances/Solar_number_abundances \n",
    "\n",
    "/Header/Abundances/Solar_mass_fractions\n",
    "       Solar abundances used (mass fractions)\n",
    "\n",
    "/Header/Abundances/Solar_number_ratios\n",
    "       Solar abundances used (number density relative to hydrogen)\n",
    "\n",
    "/Header/Metal_names\t\t   \n",
    "       Names of the metals for which cooling rates are included\n",
    "       (correspond to group names).\n",
    "\n",
    "/Header/Number_of_density_bins    \n",
    "       Number of density bins\n",
    "\n",
    "/Header/Number_of_helium_fractions\n",
    "       Number of helium fraction bins\n",
    "\n",
    "/Header/Number_of_metals\t  \n",
    "       Number of metals for which cooling rates are included.\n",
    "\n",
    "/Header/Number_of_temperature_bins\n",
    "       Number of temperature bins \n",
    "\n",
    "/Header/Redshift                  \n",
    "       The redshift to which the data in this file corresponds.\n",
    "\n",
    "-----\n",
    "\n",
    "/Metal_free (Group)\n",
    "       Includes only hydrogen and helium\n",
    "\n",
    "/Metal_free/Electron_density_over_n_h \n",
    "       Ratio of free electron and hydrogen number densities (n_e/n_H)\n",
    "       as a function of /Metal_free/Hydrogen_density_bins,\n",
    "       /Metal_free/Temperature_bins, and helium abundance\n",
    "       (/Metal_free/Helium_mass_fraction_bins or\n",
    "       /Metal_free/Helium_number_ratio_bins)\n",
    "\n",
    "/Metal_free/Helium_mass_fraction_bins       \n",
    "       Helium mass fraction bins \n",
    "\n",
    "/Metal_free/Helium_number_ratio_bins \n",
    "       Ratio of helium and hydrogen number density bins (n_He/n_H)\n",
    "\n",
    "/Metal_free/Hydrogen_density_bins\n",
    "       Hydrogen number density bins (n_H [cm^-3]) \n",
    "\n",
    "/Metal_free/Mean_particle_mass \n",
    "       Mean particle mass as a function of\n",
    "       /Metal_free/Hydrogen_density_bins,\n",
    "       /Metal_free/Temperature_bins, and helium abundance\n",
    "       (/Metal_free/Helium_mass_fraction_bins or\n",
    "       /Metal_free/Helium_number_ratio_bins) (mu [m_H])\n",
    "\n",
    "/Metal_free/Net_cooling \n",
    "       Normalized net cooling rate (pos for cooling, neg for heating)\n",
    "       as a function of /Metal_free/Hydrogen_density_bins,\n",
    "       /Metal_free/Temperature_bins, and helium abundance\n",
    "       (/Metal_free/Helium_mass_fraction_bins or\n",
    "       /Metal_free/Helium_number_ratio_bins) (Lambda/n_H^2 [erg s^-1\n",
    "       cm^3])\n",
    "\n",
    "/Metal_free/Temperature_bins\n",
    "       Temperature bins (T [K])\n",
    "\n",
    "-----\n",
    "\n",
    "/Metal_free/Temperature (Group)\n",
    "       Contains data needed to convert energy per unit mass into\n",
    "       temperature \n",
    "\n",
    "/Metal_free/Temperature/Energy_density_bins\n",
    "       Internal energy density per unit mass bins [erg g^-1]\n",
    "\n",
    "/Metal_free/Temperature/Helium_mass_fraction_bins        \n",
    "       Helium mass fraction bins\n",
    "\n",
    "/Metal_free/Temperature/Helium_number_ratio_bins\n",
    "       Ratio of helium and hydrogen number density bins (n_He/n_H)\n",
    "\n",
    "/Metal_free/Temperature/Hydrogen_density_bins\n",
    "       Hydrogen number density bins (n_H [cm^-3]) \n",
    "\n",
    "/Metal_free/Temperature/Temperature \n",
    "       Temperature as a function of\n",
    "       /Metal_free/Temperature/Hydrogen_density_bins,\n",
    "       /Metal_free/Temperature/Energy_density_bins, and helium\n",
    "       abundance (/Metal_free/Temperature/Helium_mass_fraction_bins or\n",
    "       /Metal_free/Temperature/Helium_number_ratio_bins) (T [K])\n",
    "\n",
    "-----\n",
    "\n",
    "/Total_Metals (Group)\n",
    "       Contains contribution to the net cooling due to elements from \n",
    "       Li to Zn combined (for solar abundances)\n",
    "\n",
    "/Total_Metals/Hydrogen_density_bins\n",
    "       Hydrogen number density bins (n_H [cm^-3]) \n",
    "\n",
    "/Total_Metals/Net_cooling \n",
    "       Normalized net cooling rate (pos for cooling, neg for heating)\n",
    "       as a function of /Total_Metals/Hydrogen_density_bins and\n",
    "       /Total_Metals/Temperature_bins (Lambda/n_H^2 [erg s^-1 cm^3])\n",
    "\n",
    "/Total_Metals/Temperature_bins\n",
    "       Temperature bins (T [K])\n",
    "\n",
    "-----\n",
    "\n",
    "/X (Group)\n",
    "       Contains contribution to the net cooling due to element X (for\n",
    "       solar abundances)\n",
    "\n",
    "/X/Hydrogen_density_bins\n",
    "       Hydrogen number density bins (n_H [cm^-3])\n",
    "\n",
    "/X/Net_cooling\n",
    "       Normalized, net cooling rate (pos for cooling, neg for heating)\n",
    "       due to element X as a function of /X/Hydrogen_density_bins and\n",
    "       /X/Temperature_bins (Lambda/n_H^2 [erg s^-1 cm^3])\n",
    "\n",
    "/X/Temperature_bins\n",
    "       Temperature bins (T [K])\n",
    "\n",
    "-----\n",
    "\n",
    "/Solar (Group)\n",
    "       All elements - H to Zn - are considered simultaneously (assuming \n",
    "       solar abundances) \n",
    "\n",
    "/Solar/Electron_density_over_n_h\n",
    "       Ratio of free electron and hydrogen number densities (n_e/n_H)\n",
    "       as a function of /Solar/Hydrogen_density_bins and\n",
    "       /Solar/Temperature_bins for solar abundances\n",
    "\n",
    "/Solar/Hydrogen_density_bins\n",
    "       Hydrogen number density bins (n_H [cm^-3])\n",
    "\n",
    "/Solar/Mean_particle_mass\n",
    "       Mean particle mass as a function of /Solar/Hydrogen_density_bins and\n",
    "       /Solar/Temperature_bins for solar abundances (mu [m_H]) \n",
    "\n",
    "/Solar/Net_Cooling       \n",
    "       Normalized, net cooling rate (pos for cooling, neg for heating)\n",
    "       as a function of /Solar/Hydrogen_density_bins and\n",
    "       /Solar/Temperature_bins for solar abundances (Lambda/n_H^2 [erg\n",
    "       s^-1 cm^3]) \n",
    "\n",
    "/Solar/Temperature_bins\t \t \n",
    "       Temperature bins (T [K])\n"
   ]
  },
  {
   "cell_type": "code",
   "execution_count": 141,
   "metadata": {},
   "outputs": [
    {
     "data": {
      "text/plain": [
       "<KeysViewHDF5 ['Calcium', 'Carbon', 'Header', 'Iron', 'Magnesium', 'Metal_free', 'Neon', 'Nitrogen', 'Oxygen', 'Silicon', 'Solar', 'Sulphur', 'Total_Metals']>"
      ]
     },
     "execution_count": 141,
     "metadata": {},
     "output_type": "execute_result"
    }
   ],
   "source": [
    "import h5py\n",
    "fname = '../../CoolingRoutines/CoolingTables/z_collis.hdf5'\n",
    "#fname = '../../CoolingRoutines/CoolingTables/z_0.000.hdf5'\n",
    "f = h5py.File(fname, 'r')\n",
    "f.keys()"
   ]
  },
  {
   "cell_type": "code",
   "execution_count": 167,
   "metadata": {},
   "outputs": [
    {
     "name": "stdout",
     "output_type": "stream",
     "text": [
      "Header :  <KeysViewHDF5 ['Abundances', 'Note', 'Number_of_helium_fractions', 'Number_of_species', 'Number_of_temperature_bins', 'Reference', 'Species_names', 'Version']>\n",
      "Abundances :  <KeysViewHDF5 ['Abund_names', 'Number_of_abundances', 'Solar_mass_fractions', 'Solar_number_ratios']>\n",
      "Solar :  <KeysViewHDF5 ['Electron_density_over_n_h', 'Mean_particle_mass', 'Net_cooling', 'Temperature_bins']>\n"
     ]
    }
   ],
   "source": [
    "h = f.get('Header')\n",
    "abd = h.get('Abundances')\n",
    "solar = f.get('Solar')\n",
    "print('Header : ',h.keys())\n",
    "print('Abundances : ',abd.keys())\n",
    "print('Solar : ',solar.keys())"
   ]
  },
  {
   "cell_type": "code",
   "execution_count": 183,
   "metadata": {},
   "outputs": [
    {
     "name": "stdout",
     "output_type": "stream",
     "text": [
      "Abund_names : [b'Hydrogen' b'Helium' b'Carbon' b'Nitrogen' b'Oxygen' b'Neon'\n",
      " b'Magnesium' b'Silicon' b'Sulphur' b'Calcium' b'Iron']\n",
      "Number_of_abundances : [11]\n",
      "Solar_mass_fractions : [7.0649785e-01 2.8055534e-01 2.0665436e-03 8.3562563e-04 5.4926244e-03\n",
      " 1.4144605e-03 5.9070642e-04 6.8258739e-04 4.0898522e-04 6.4355001e-05\n",
      " 1.1032152e-03]\n",
      "Solar_number_ratios : [1.0000000e+00 1.0000000e-01 2.4547096e-04 8.5113767e-05 4.8977887e-04\n",
      " 9.9999997e-05 3.4673682e-05 3.4673682e-05 1.8197019e-05 2.2908685e-06\n",
      " 2.8183817e-05]\n"
     ]
    }
   ],
   "source": [
    "for k in abd.keys():\n",
    "    print(k, ':', abd.get(k).value)"
   ]
  },
  {
   "cell_type": "code",
   "execution_count": 202,
   "metadata": {},
   "outputs": [
    {
     "name": "stdout",
     "output_type": "stream",
     "text": [
      "muH : 1.4150252\n"
     ]
    }
   ],
   "source": [
    "X = abd.get('Solar_mass_fractions').value\n",
    "print('muH :',(X/X[0]).sum())"
   ]
  },
  {
   "cell_type": "code",
   "execution_count": 361,
   "metadata": {},
   "outputs": [],
   "source": [
    "def read_Wiersma08_hdf(z=0.0, CIE=False,\n",
    "                       basedir='../../CoolingRoutines/CoolingTables/'):\n",
    "\n",
    "    import os\n",
    "    import h5py\n",
    "    \n",
    "    if CIE:\n",
    "        fname = os.path.join(basedir, 'z_collis.hdf5')\n",
    "    else:\n",
    "        fname = os.path.join(basedir, 'z_{0:.3f}.hdf5'.format(z))\n",
    "    \n",
    "    r = dict()\n",
    "    with h5py.File(fname, 'r') as f:\n",
    "        h = f.get('Header')\n",
    "        abd = h.get('Abundances')\n",
    "        solar = f.get('Solar')\n",
    "        r['xe'] = np.array(solar['Electron_density_over_n_h'])\n",
    "        r['mu'] = np.array(solar['Mean_particle_mass'])\n",
    "        r['Lambda'] = np.array(solar['Net_cooling'])\n",
    "        r['T'] = np.array(solar['Temperature_bins'])\n",
    "        try:\n",
    "            r['nH'] = np.array(solar['Hydrogen_density_bins'])\n",
    "        except KeyError:\n",
    "            r['nH'] = None\n",
    "        \n",
    "        #print(f.keys(), h.keys(), solar.keys())\n",
    "\n",
    "        r['abd'] = dict()\n",
    "        for k in abd.keys():\n",
    "            r['abd'][k] = abd.get(k)[()]\n",
    "\n",
    "        r['header'] = dict()\n",
    "        for k in h.keys():\n",
    "            if k == 'Abundances':\n",
    "                continue\n",
    "            r['header'][k] = h.get(k)[()]\n",
    "\n",
    "        X = abd.get('Solar_mass_fractions').value\n",
    "        r['abd']['muH'] = (X/X[0]).sum()\n",
    "\n",
    "    return r\n",
    "\n",
    "r0 = read_Wiersma08_hdf(z=0.0) # z=0 UV background\n",
    "r = read_Wiersma08_hdf(CIE=True) # CIE"
   ]
  },
  {
   "cell_type": "code",
   "execution_count": 362,
   "metadata": {},
   "outputs": [],
   "source": [
    "# plt.loglog(r['T'],r['xe']);\n",
    "# plt.loglog(r0['T'],r0['xe'][:,-1]);"
   ]
  },
  {
   "cell_type": "code",
   "execution_count": 363,
   "metadata": {},
   "outputs": [
    {
     "data": {
      "image/png": "[encoded data removed]",
      "text/plain": [
       "<Figure size 576x648 with 3 Axes>"
      ]
     },
     "metadata": {
      "needs_background": "light"
     },
     "output_type": "display_data"
    }
   ],
   "source": [
    "fname = '../data/Wiersma09_z_collis.txt'\n",
    "df = pd.read_csv(fname, sep='\\s+', header=None,\n",
    "                 names=['Temp', 'Lambda_HHe', 'xe', 'Lambda_Metal'],\n",
    "                 usecols=[0, 11, 12, 15], squeeze=True)\n",
    "\n",
    "\n",
    "plt.rcParams['font.size'] = 13\n",
    "fig, axes = plt.subplots(3,1,figsize=(8,9))\n",
    "axes = axes.flatten()\n",
    "\n",
    "plt.sca(axes[0])\n",
    "plt.loglog(r['T'], r['xe'], 'o-', ms=2)\n",
    "plt.loglog(r0['T'], r0['xe'][:,-1], 'o-', ms=2)\n",
    "# plt.loglog(df['Temp'],df['xe']) # cooling read from ascii table\n",
    "plt.xlabel(r'$T\\;[{\\rm K}]$')\n",
    "plt.ylabel(r'$x_e$')\n",
    "plt.xlim(right=1e6)\n",
    "\n",
    "plt.sca(axes[1])\n",
    "plt.semilogx(r['T'], r['mu'], 'o-', ms=2)\n",
    "plt.semilogx(r0['T'], r0['mu'][:,-1], 'o-', ms=2)\n",
    "plt.xlabel(r'$T\\;[{\\rm K}]$')\n",
    "plt.ylabel(r'$\\mu$')\n",
    "\n",
    "plt.sca(axes[2])\n",
    "plt.loglog(r['T'], r['Lambda'], 'o-', ms=2)\n",
    "plt.loglog(r0['T'], r0['Lambda'][:,-1], 'o-', ms=2)\n",
    "# plt.loglog(df['Temp'],df['Lambda_Metal']+df['Lambda_HHe']) # cooling read from ascii table\n",
    "plt.xlabel(r'$T\\;[{\\rm K}]$')\n",
    "plt.ylabel(r'$\\Lambda\\;[{\\rm cm}^{3}\\,{\\rm s}^{-1}]$')\n",
    "plt.xlim(right=1e6)\n",
    "\n",
    "for ax in axes:\n",
    "    plt.sca(ax)\n",
    "    plt.xlim(1e2,1e9)\n",
    "    plt.grid()\n",
    "    \n",
    "plt.tight_layout()"
   ]
  },
  {
   "cell_type": "code",
   "execution_count": 268,
   "metadata": {},
   "outputs": [
    {
     "data": {
      "text/plain": [
       "[<matplotlib.lines.Line2D at 0x7f19753ee210>]"
      ]
     },
     "execution_count": 268,
     "metadata": {},
     "output_type": "execute_result"
    },
    {
     "data": {
      "image/png": "[encoded data removed]",
      "text/plain": [
       "<Figure size 432x288 with 1 Axes>"
      ]
     },
     "metadata": {
      "needs_background": "light"
     },
     "output_type": "display_data"
    }
   ],
   "source": [
    "plt.semilogx(r['T'],mu_)\n",
    "plt.semilogx(r['T'],r['mu'])"
   ]
  },
  {
   "cell_type": "code",
   "execution_count": 274,
   "metadata": {},
   "outputs": [
    {
     "data": {
      "text/plain": [
       "1.4263454360961914"
      ]
     },
     "execution_count": 274,
     "metadata": {},
     "output_type": "execute_result"
    }
   ],
   "source": [
    "1.008*r['abd']['muH']"
   ]
  },
  {
   "cell_type": "code",
   "execution_count": 273,
   "metadata": {},
   "outputs": [
    {
     "data": {
      "text/plain": [
       "[<matplotlib.lines.Line2D at 0x7f1975266510>]"
      ]
     },
     "execution_count": 273,
     "metadata": {},
     "output_type": "execute_result"
    },
    {
     "data": {
      "image/png": "[encoded data removed]",
      "text/plain": [
       "<Figure size 432x288 with 1 Axes>"
      ]
     },
     "metadata": {
      "needs_background": "light"
     },
     "output_type": "display_data"
    }
   ],
   "source": [
    "mu_ = 1.008*r['abd']['muH']/(r['abd']['Solar_number_ratios'].sum() + r['xe'])\n",
    "plt.semilogx(r['T'],mu_/r['mu'] - 1.0)"
   ]
  },
  {
   "cell_type": "code",
   "execution_count": 120,
   "metadata": {},
   "outputs": [],
   "source": [
    "a = f['Solar']"
   ]
  },
  {
   "cell_type": "code",
   "execution_count": 129,
   "metadata": {},
   "outputs": [
    {
     "data": {
      "text/plain": [
       "<HDF5 dataset \"Electron_density_over_n_h\": shape (352,), type \"<f4\">"
      ]
     },
     "execution_count": 129,
     "metadata": {},
     "output_type": "execute_result"
    }
   ],
   "source": [
    "a.get('Electron_density_over_n_h')"
   ]
  },
  {
   "cell_type": "code",
   "execution_count": 126,
   "metadata": {},
   "outputs": [
    {
     "data": {
      "text/plain": [
       "<KeysViewHDF5 ['Electron_density_over_n_h', 'Mean_particle_mass', 'Net_cooling', 'Temperature_bins']>"
      ]
     },
     "execution_count": 126,
     "metadata": {},
     "output_type": "execute_result"
    }
   ],
   "source": [
    "a.keys()"
   ]
  },
  {
   "cell_type": "code",
   "execution_count": null,
   "metadata": {},
   "outputs": [],
   "source": []
  },
  {
   "cell_type": "code",
   "execution_count": 132,
   "metadata": {},
   "outputs": [
    {
     "ename": "ValueError",
     "evalue": "no table found in HDF5 group None",
     "output_type": "error",
     "traceback": [
      "\u001b[0;31m---------------------------------------------------------------------------\u001b[0m",
      "\u001b[0;31mValueError\u001b[0m                                Traceback (most recent call last)",
      "\u001b[0;32m<ipython-input-132-e12019a09ea4>\u001b[0m in \u001b[0;36m<module>\u001b[0;34m\u001b[0m\n\u001b[1;32m      1\u001b[0m \u001b[0;32mfrom\u001b[0m \u001b[0mastropy\u001b[0m \u001b[0;32mimport\u001b[0m \u001b[0mtable\u001b[0m\u001b[0;34m\u001b[0m\u001b[0;34m\u001b[0m\u001b[0m\n\u001b[1;32m      2\u001b[0m \u001b[0;31m#table.Table.read(fname, path='Solar/Electron_density_over_n_h')\u001b[0m\u001b[0;34m\u001b[0m\u001b[0;34m\u001b[0m\u001b[0;34m\u001b[0m\u001b[0m\n\u001b[0;32m----> 3\u001b[0;31m \u001b[0mtable\u001b[0m\u001b[0;34m.\u001b[0m\u001b[0mTable\u001b[0m\u001b[0;34m.\u001b[0m\u001b[0mread\u001b[0m\u001b[0;34m(\u001b[0m\u001b[0mfname\u001b[0m\u001b[0;34m)\u001b[0m\u001b[0;34m\u001b[0m\u001b[0;34m\u001b[0m\u001b[0m\n\u001b[0m",
      "\u001b[0;32m~/miniconda3/lib/python3.7/site-packages/astropy/table/table.py\u001b[0m in \u001b[0;36mread\u001b[0;34m(cls, *args, **kwargs)\u001b[0m\n\u001b[1;32m   2548\u001b[0m         \u001b[0;31m# RST table and inserts at the end of the docstring.  DO NOT REMOVE.\u001b[0m\u001b[0;34m\u001b[0m\u001b[0;34m\u001b[0m\u001b[0;34m\u001b[0m\u001b[0m\n\u001b[1;32m   2549\u001b[0m \u001b[0;34m\u001b[0m\u001b[0m\n\u001b[0;32m-> 2550\u001b[0;31m         \u001b[0mout\u001b[0m \u001b[0;34m=\u001b[0m \u001b[0mio_registry\u001b[0m\u001b[0;34m.\u001b[0m\u001b[0mread\u001b[0m\u001b[0;34m(\u001b[0m\u001b[0mcls\u001b[0m\u001b[0;34m,\u001b[0m \u001b[0;34m*\u001b[0m\u001b[0margs\u001b[0m\u001b[0;34m,\u001b[0m \u001b[0;34m**\u001b[0m\u001b[0mkwargs\u001b[0m\u001b[0;34m)\u001b[0m\u001b[0;34m\u001b[0m\u001b[0;34m\u001b[0m\u001b[0m\n\u001b[0m\u001b[1;32m   2551\u001b[0m         \u001b[0;31m# For some readers (e.g., ascii.ecsv), the returned `out` class is not\u001b[0m\u001b[0;34m\u001b[0m\u001b[0;34m\u001b[0m\u001b[0;34m\u001b[0m\u001b[0m\n\u001b[1;32m   2552\u001b[0m         \u001b[0;31m# guaranteed to be the same as the desired output `cls`.  If so,\u001b[0m\u001b[0;34m\u001b[0m\u001b[0;34m\u001b[0m\u001b[0;34m\u001b[0m\u001b[0m\n",
      "\u001b[0;32m~/miniconda3/lib/python3.7/site-packages/astropy/io/registry.py\u001b[0m in \u001b[0;36mread\u001b[0;34m(cls, format, *args, **kwargs)\u001b[0m\n\u001b[1;32m    515\u001b[0m \u001b[0;34m\u001b[0m\u001b[0m\n\u001b[1;32m    516\u001b[0m         \u001b[0mreader\u001b[0m \u001b[0;34m=\u001b[0m \u001b[0mget_reader\u001b[0m\u001b[0;34m(\u001b[0m\u001b[0mformat\u001b[0m\u001b[0;34m,\u001b[0m \u001b[0mcls\u001b[0m\u001b[0;34m)\u001b[0m\u001b[0;34m\u001b[0m\u001b[0;34m\u001b[0m\u001b[0m\n\u001b[0;32m--> 517\u001b[0;31m         \u001b[0mdata\u001b[0m \u001b[0;34m=\u001b[0m \u001b[0mreader\u001b[0m\u001b[0;34m(\u001b[0m\u001b[0;34m*\u001b[0m\u001b[0margs\u001b[0m\u001b[0;34m,\u001b[0m \u001b[0;34m**\u001b[0m\u001b[0mkwargs\u001b[0m\u001b[0;34m)\u001b[0m\u001b[0;34m\u001b[0m\u001b[0;34m\u001b[0m\u001b[0m\n\u001b[0m\u001b[1;32m    518\u001b[0m \u001b[0;34m\u001b[0m\u001b[0m\n\u001b[1;32m    519\u001b[0m         \u001b[0;32mif\u001b[0m \u001b[0;32mnot\u001b[0m \u001b[0misinstance\u001b[0m\u001b[0;34m(\u001b[0m\u001b[0mdata\u001b[0m\u001b[0;34m,\u001b[0m \u001b[0mcls\u001b[0m\u001b[0;34m)\u001b[0m\u001b[0;34m:\u001b[0m\u001b[0;34m\u001b[0m\u001b[0;34m\u001b[0m\u001b[0m\n",
      "\u001b[0;32m~/miniconda3/lib/python3.7/site-packages/astropy/io/misc/hdf5.py\u001b[0m in \u001b[0;36mread_table_hdf5\u001b[0;34m(input, path, character_as_bytes)\u001b[0m\n\u001b[1;32m    140\u001b[0m \u001b[0;34m\u001b[0m\u001b[0m\n\u001b[1;32m    141\u001b[0m         \u001b[0;32mtry\u001b[0m\u001b[0;34m:\u001b[0m\u001b[0;34m\u001b[0m\u001b[0;34m\u001b[0m\u001b[0m\n\u001b[0;32m--> 142\u001b[0;31m             \u001b[0;32mreturn\u001b[0m \u001b[0mread_table_hdf5\u001b[0m\u001b[0;34m(\u001b[0m\u001b[0mf\u001b[0m\u001b[0;34m,\u001b[0m \u001b[0mpath\u001b[0m\u001b[0;34m=\u001b[0m\u001b[0mpath\u001b[0m\u001b[0;34m,\u001b[0m \u001b[0mcharacter_as_bytes\u001b[0m\u001b[0;34m=\u001b[0m\u001b[0mcharacter_as_bytes\u001b[0m\u001b[0;34m)\u001b[0m\u001b[0;34m\u001b[0m\u001b[0;34m\u001b[0m\u001b[0m\n\u001b[0m\u001b[1;32m    143\u001b[0m         \u001b[0;32mfinally\u001b[0m\u001b[0;34m:\u001b[0m\u001b[0;34m\u001b[0m\u001b[0;34m\u001b[0m\u001b[0m\n\u001b[1;32m    144\u001b[0m             \u001b[0mf\u001b[0m\u001b[0;34m.\u001b[0m\u001b[0mclose\u001b[0m\u001b[0;34m(\u001b[0m\u001b[0;34m)\u001b[0m\u001b[0;34m\u001b[0m\u001b[0;34m\u001b[0m\u001b[0m\n",
      "\u001b[0;32m~/miniconda3/lib/python3.7/site-packages/astropy/io/misc/hdf5.py\u001b[0m in \u001b[0;36mread_table_hdf5\u001b[0;34m(input, path, character_as_bytes)\u001b[0m\n\u001b[1;32m    114\u001b[0m             \u001b[0;32mif\u001b[0m \u001b[0mlen\u001b[0m\u001b[0;34m(\u001b[0m\u001b[0marrays\u001b[0m\u001b[0;34m)\u001b[0m \u001b[0;34m==\u001b[0m \u001b[0;36m0\u001b[0m\u001b[0;34m:\u001b[0m\u001b[0;34m\u001b[0m\u001b[0;34m\u001b[0m\u001b[0m\n\u001b[1;32m    115\u001b[0m                 raise ValueError(\"no table found in HDF5 group {0}\".\n\u001b[0;32m--> 116\u001b[0;31m                                  format(path))\n\u001b[0m\u001b[1;32m    117\u001b[0m             \u001b[0;32melif\u001b[0m \u001b[0mlen\u001b[0m\u001b[0;34m(\u001b[0m\u001b[0marrays\u001b[0m\u001b[0;34m)\u001b[0m \u001b[0;34m>\u001b[0m \u001b[0;36m0\u001b[0m\u001b[0;34m:\u001b[0m\u001b[0;34m\u001b[0m\u001b[0;34m\u001b[0m\u001b[0m\n\u001b[1;32m    118\u001b[0m                 \u001b[0mpath\u001b[0m \u001b[0;34m=\u001b[0m \u001b[0marrays\u001b[0m\u001b[0;34m[\u001b[0m\u001b[0;36m0\u001b[0m\u001b[0;34m]\u001b[0m \u001b[0;32mif\u001b[0m \u001b[0mpath\u001b[0m \u001b[0;32mis\u001b[0m \u001b[0;32mNone\u001b[0m \u001b[0;32melse\u001b[0m \u001b[0mpath\u001b[0m \u001b[0;34m+\u001b[0m \u001b[0;34m'/'\u001b[0m \u001b[0;34m+\u001b[0m \u001b[0marrays\u001b[0m\u001b[0;34m[\u001b[0m\u001b[0;36m0\u001b[0m\u001b[0;34m]\u001b[0m\u001b[0;34m\u001b[0m\u001b[0;34m\u001b[0m\u001b[0m\n",
      "\u001b[0;31mValueError\u001b[0m: no table found in HDF5 group None"
     ]
    }
   ],
   "source": [
    "from astropy import table\n",
    "#table.Table.read(fname, path='Solar/Electron_density_over_n_h')\n",
    "table.Table.read(fname)"
   ]
  },
  {
   "cell_type": "code",
   "execution_count": 97,
   "metadata": {},
   "outputs": [
    {
     "data": {
      "text/plain": [
       "<KeysViewHDF5 ['Abundances', 'Note', 'Number_of_helium_fractions', 'Number_of_species', 'Number_of_temperature_bins', 'Reference', 'Species_names', 'Version']>"
      ]
     },
     "execution_count": 97,
     "metadata": {},
     "output_type": "execute_result"
    }
   ],
   "source": [
    "h = f.get('Header')\n",
    "h.keys()"
   ]
  },
  {
   "cell_type": "code",
   "execution_count": 111,
   "metadata": {},
   "outputs": [
    {
     "data": {
      "text/plain": [
       "<HDF5 group \"/Header/Abundances\" (4 members)>"
      ]
     },
     "execution_count": 111,
     "metadata": {},
     "output_type": "execute_result"
    }
   ],
   "source": [
    "h['Abundances'].get"
   ]
  },
  {
   "cell_type": "code",
   "execution_count": 91,
   "metadata": {},
   "outputs": [
    {
     "data": {
      "text/plain": [
       "[<matplotlib.lines.Line2D at 0x7f197c601610>]"
      ]
     },
     "execution_count": 91,
     "metadata": {},
     "output_type": "execute_result"
    },
    {
     "data": {
      "image/png": "[encoded data removed]",
      "text/plain": [
       "<Figure size 432x288 with 1 Axes>"
      ]
     },
     "metadata": {
      "needs_background": "light"
     },
     "output_type": "display_data"
    }
   ],
   "source": [
    "n = f.get('Solar')\n",
    "plt.semilogy(n['Net_cooling'])"
   ]
  },
  {
   "cell_type": "code",
   "execution_count": 77,
   "metadata": {},
   "outputs": [
    {
     "data": {
      "text/plain": [
       "<HDF5 dataset \"Net_cooling\": shape (352, 81), type \"<f4\">"
      ]
     },
     "execution_count": 77,
     "metadata": {},
     "output_type": "execute_result"
    }
   ],
   "source": [
    "n.get('Net_cooling')"
   ]
  },
  {
   "cell_type": "code",
   "execution_count": 70,
   "metadata": {},
   "outputs": [
    {
     "data": {
      "text/plain": [
       "array(['Electron_density_over_n_h', 'Hydrogen_density_bins',\n",
       "       'Mean_particle_mass', 'Net_cooling', 'Temperature_bins'],\n",
       "      dtype='<U25')"
      ]
     },
     "execution_count": 70,
     "metadata": {},
     "output_type": "execute_result"
    }
   ],
   "source": [
    "np.array(n)"
   ]
  },
  {
   "cell_type": "code",
   "execution_count": 44,
   "metadata": {},
   "outputs": [
    {
     "name": "stdout",
     "output_type": "stream",
     "text": [
      "Help on Group in module h5py._hl.group object:\n",
      "\n",
      "class Group(h5py._hl.base.HLObject, h5py._hl.base.MutableMappingHDF5)\n",
      " |  Group(bind)\n",
      " |  \n",
      " |  Represents an HDF5 group.\n",
      " |  \n",
      " |  Method resolution order:\n",
      " |      Group\n",
      " |      h5py._hl.base.HLObject\n",
      " |      h5py._hl.base.CommonStateObject\n",
      " |      h5py._hl.base.MutableMappingHDF5\n",
      " |      h5py._hl.base.MappingHDF5\n",
      " |      collections.abc.MutableMapping\n",
      " |      collections.abc.Mapping\n",
      " |      collections.abc.Collection\n",
      " |      collections.abc.Sized\n",
      " |      collections.abc.Iterable\n",
      " |      collections.abc.Container\n",
      " |      builtins.object\n",
      " |  \n",
      " |  Methods defined here:\n",
      " |  \n",
      " |  __contains__(self, name)\n",
      " |      Test if a member name exists\n",
      " |  \n",
      " |  __delitem__(self, name)\n",
      " |      Delete (unlink) an item from this group.\n",
      " |  \n",
      " |  __getitem__(self, name)\n",
      " |      Open an object in the file\n",
      " |  \n",
      " |  __init__(self, bind)\n",
      " |      Create a new Group object by binding to a low-level GroupID.\n",
      " |  \n",
      " |  __iter__(self)\n",
      " |      Iterate over member names\n",
      " |  \n",
      " |  __len__(self)\n",
      " |      Number of members attached to this group\n",
      " |  \n",
      " |  __repr__(self)\n",
      " |  \n",
      " |  __setitem__(self, name, obj)\n",
      " |      Add an object to the group.  The name must not already be in use.\n",
      " |      \n",
      " |      The action taken depends on the type of object assigned:\n",
      " |      \n",
      " |      Named HDF5 object (Dataset, Group, Datatype)\n",
      " |          A hard link is created at \"name\" which points to the\n",
      " |          given object.\n",
      " |      \n",
      " |      SoftLink or ExternalLink\n",
      " |          Create the corresponding link.\n",
      " |      \n",
      " |      Numpy ndarray\n",
      " |          The array is converted to a dataset object, with default\n",
      " |          settings (contiguous storage, etc.).\n",
      " |      \n",
      " |      Numpy dtype\n",
      " |          Commit a copy of the datatype as a named datatype in the file.\n",
      " |      \n",
      " |      Anything else\n",
      " |          Attempt to convert it to an ndarray and store it.  Scalar\n",
      " |          values are stored as scalar datasets. Raise ValueError if we\n",
      " |          can't understand the resulting array dtype.\n",
      " |  \n",
      " |  copy(self, source, dest, name=None, shallow=False, expand_soft=False, expand_external=False, expand_refs=False, without_attrs=False)\n",
      " |      Copy an object or group.\n",
      " |      \n",
      " |       The source can be a path, Group, Dataset, or Datatype object.  The\n",
      " |       destination can be either a path or a Group object.  The source and\n",
      " |       destinations need not be in the same file.\n",
      " |      \n",
      " |       If the source is a Group object, all objects contained in that group\n",
      " |       will be copied recursively.\n",
      " |      \n",
      " |       When the destination is a Group object, by default the target will\n",
      " |       be created in that group with its current name (basename of obj.name).\n",
      " |       You can override that by setting \"name\" to a string.\n",
      " |      \n",
      " |       There are various options which all default to \"False\":\n",
      " |      \n",
      " |        - shallow: copy only immediate members of a group.\n",
      " |      \n",
      " |        - expand_soft: expand soft links into new objects.\n",
      " |      \n",
      " |        - expand_external: expand external links into new objects.\n",
      " |      \n",
      " |        - expand_refs: copy objects that are pointed to by references.\n",
      " |      \n",
      " |        - without_attrs: copy object without copying attributes.\n",
      " |      \n",
      " |      Example:\n",
      " |      \n",
      " |       >>> f = File('myfile.hdf5')\n",
      " |       >>> f.listnames()\n",
      " |       ['MyGroup']\n",
      " |       >>> f.copy('MyGroup', 'MyCopy')\n",
      " |       >>> f.listnames()\n",
      " |       ['MyGroup', 'MyCopy']\n",
      " |  \n",
      " |  create_dataset(self, name, shape=None, dtype=None, data=None, **kwds)\n",
      " |      Create a new HDF5 dataset\n",
      " |      \n",
      " |      name\n",
      " |          Name of the dataset (absolute or relative).  Provide None to make\n",
      " |          an anonymous dataset.\n",
      " |      shape\n",
      " |          Dataset shape.  Use \"()\" for scalar datasets.  Required if \"data\"\n",
      " |          isn't provided.\n",
      " |      dtype\n",
      " |          Numpy dtype or string.  If omitted, dtype('f') will be used.\n",
      " |          Required if \"data\" isn't provided; otherwise, overrides data\n",
      " |          array's dtype.\n",
      " |      data\n",
      " |          Provide data to initialize the dataset.  If used, you can omit\n",
      " |          shape and dtype arguments.\n",
      " |      \n",
      " |      Keyword-only arguments:\n",
      " |      \n",
      " |      chunks\n",
      " |          (Tuple) Chunk shape, or True to enable auto-chunking.\n",
      " |      maxshape\n",
      " |          (Tuple) Make the dataset resizable up to this shape.  Use None for\n",
      " |          axes you want to be unlimited.\n",
      " |      compression\n",
      " |          (String or int) Compression strategy.  Legal values are 'gzip',\n",
      " |          'szip', 'lzf'.  If an integer in range(10), this indicates gzip\n",
      " |          compression level. Otherwise, an integer indicates the number of a\n",
      " |          dynamically loaded compression filter.\n",
      " |      compression_opts\n",
      " |          Compression settings.  This is an integer for gzip, 2-tuple for\n",
      " |          szip, etc. If specifying a dynamically loaded compression filter\n",
      " |          number, this must be a tuple of values.\n",
      " |      scaleoffset\n",
      " |          (Integer) Enable scale/offset filter for (usually) lossy\n",
      " |          compression of integer or floating-point data. For integer\n",
      " |          data, the value of scaleoffset is the number of bits to\n",
      " |          retain (pass 0 to let HDF5 determine the minimum number of\n",
      " |          bits necessary for lossless compression). For floating point\n",
      " |          data, scaleoffset is the number of digits after the decimal\n",
      " |          place to retain; stored values thus have absolute error\n",
      " |          less than 0.5*10**(-scaleoffset).\n",
      " |      shuffle\n",
      " |          (T/F) Enable shuffle filter.\n",
      " |      fletcher32\n",
      " |          (T/F) Enable fletcher32 error detection. Not permitted in\n",
      " |          conjunction with the scale/offset filter.\n",
      " |      fillvalue\n",
      " |          (Scalar) Use this value for uninitialized parts of the dataset.\n",
      " |      track_times\n",
      " |          (T/F) Enable dataset creation timestamps.\n",
      " |      track_order\n",
      " |          (T/F) Track attribute creation order if True. If omitted use\n",
      " |          global default h5.get_config().track_order.\n",
      " |      external\n",
      " |          (List of tuples) Sets the external storage property, thus\n",
      " |          designating that the dataset will be stored in one or more\n",
      " |          non-HDF5 file(s) external to the HDF5 file. Adds each listed\n",
      " |          tuple of (file[, offset[, size]]) to the dataset's list of\n",
      " |          external files.\n",
      " |  \n",
      " |  create_dataset_like(self, name, other, **kwupdate)\n",
      " |      Create a dataset similar to `other`.\n",
      " |      \n",
      " |      name\n",
      " |          Name of the dataset (absolute or relative).  Provide None to make\n",
      " |          an anonymous dataset.\n",
      " |      other\n",
      " |          The dataset which the new dataset should mimic. All properties, such\n",
      " |          as shape, dtype, chunking, ... will be taken from it, but no data\n",
      " |          or attributes are being copied.\n",
      " |      \n",
      " |      Any dataset keywords (see create_dataset) may be provided, including\n",
      " |      shape and dtype, in which case the provided values take precedence over\n",
      " |      those from `other`.\n",
      " |  \n",
      " |  create_group(self, name, track_order=None)\n",
      " |      Create and return a new subgroup.\n",
      " |      \n",
      " |      Name may be absolute or relative.  Fails if the target name already\n",
      " |      exists.\n",
      " |      \n",
      " |      track_order\n",
      " |          Track dataset/group/attribute creation order under this group\n",
      " |          if True. If None use global default h5.get_config().track_order.\n",
      " |  \n",
      " |  create_virtual_dataset(self, name, layout, fillvalue=None)\n",
      " |      Create a new virtual dataset in this group.\n",
      " |      \n",
      " |      Creates the virtual dataset from a list of virtual maps, any\n",
      " |      gaps are filled with a specified fill value.\n",
      " |      \n",
      " |      name\n",
      " |          (str) Name of the new dataset\n",
      " |      \n",
      " |      virtual_target\n",
      " |          Defines the sources for the virtual dataset\n",
      " |  \n",
      " |  get(self, name, default=None, getclass=False, getlink=False)\n",
      " |      Retrieve an item or other information.\n",
      " |      \n",
      " |      \"name\" given only:\n",
      " |          Return the item, or \"default\" if it doesn't exist\n",
      " |      \n",
      " |      \"getclass\" is True:\n",
      " |          Return the class of object (Group, Dataset, etc.), or \"default\"\n",
      " |          if nothing with that name exists\n",
      " |      \n",
      " |      \"getlink\" is True:\n",
      " |          Return HardLink, SoftLink or ExternalLink instances.  Return\n",
      " |          \"default\" if nothing with that name exists.\n",
      " |      \n",
      " |      \"getlink\" and \"getclass\" are True:\n",
      " |          Return HardLink, SoftLink and ExternalLink classes.  Return\n",
      " |          \"default\" if nothing with that name exists.\n",
      " |      \n",
      " |      Example:\n",
      " |      \n",
      " |      >>> cls = group.get('foo', getclass=True)\n",
      " |      >>> if cls == SoftLink:\n",
      " |  \n",
      " |  move(self, source, dest)\n",
      " |      Move a link to a new location in the file.\n",
      " |      \n",
      " |      If \"source\" is a hard link, this effectively renames the object.  If\n",
      " |      \"source\" is a soft or external link, the link itself is moved, with its\n",
      " |      value unmodified.\n",
      " |  \n",
      " |  require_dataset(self, name, shape, dtype, exact=False, **kwds)\n",
      " |      Open a dataset, creating it if it doesn't exist.\n",
      " |      \n",
      " |      If keyword \"exact\" is False (default), an existing dataset must have\n",
      " |      the same shape and a conversion-compatible dtype to be returned.  If\n",
      " |      True, the shape and dtype must match exactly.\n",
      " |      \n",
      " |      Other dataset keywords (see create_dataset) may be provided, but are\n",
      " |      only used if a new dataset is to be created.\n",
      " |      \n",
      " |      Raises TypeError if an incompatible object already exists, or if the\n",
      " |      shape or dtype don't match according to the above rules.\n",
      " |  \n",
      " |  require_group(self, name)\n",
      " |      Return a group, creating it if it doesn't exist.\n",
      " |      \n",
      " |      TypeError is raised if something with that name already exists that\n",
      " |      isn't a group.\n",
      " |  \n",
      " |  visit(self, func)\n",
      " |      Recursively visit all names in this group and subgroups (HDF5 1.8).\n",
      " |      \n",
      " |      You supply a callable (function, method or callable object); it\n",
      " |      will be called exactly once for each link in this group and every\n",
      " |      group below it. Your callable must conform to the signature:\n",
      " |      \n",
      " |          func(<member name>) => <None or return value>\n",
      " |      \n",
      " |      Returning None continues iteration, returning anything else stops\n",
      " |      and immediately returns that value from the visit method.  No\n",
      " |      particular order of iteration within groups is guaranteed.\n",
      " |      \n",
      " |      Example:\n",
      " |      \n",
      " |      >>> # List the entire contents of the file\n",
      " |      >>> f = File(\"foo.hdf5\")\n",
      " |      >>> list_of_names = []\n",
      " |      >>> f.visit(list_of_names.append)\n",
      " |  \n",
      " |  visititems(self, func)\n",
      " |      Recursively visit names and objects in this group (HDF5 1.8).\n",
      " |      \n",
      " |      You supply a callable (function, method or callable object); it\n",
      " |      will be called exactly once for each link in this group and every\n",
      " |      group below it. Your callable must conform to the signature:\n",
      " |      \n",
      " |          func(<member name>, <object>) => <None or return value>\n",
      " |      \n",
      " |      Returning None continues iteration, returning anything else stops\n",
      " |      and immediately returns that value from the visit method.  No\n",
      " |      particular order of iteration within groups is guaranteed.\n",
      " |      \n",
      " |      Example:\n",
      " |      \n",
      " |      # Get a list of all datasets in the file\n",
      " |      >>> mylist = []\n",
      " |      >>> def func(name, obj):\n",
      " |      ...     if isinstance(obj, Dataset):\n",
      " |      ...         mylist.append(name)\n",
      " |      ...\n",
      " |      >>> f = File('foo.hdf5')\n",
      " |      >>> f.visititems(func)\n",
      " |  \n",
      " |  ----------------------------------------------------------------------\n",
      " |  Data and other attributes defined here:\n",
      " |  \n",
      " |  __abstractmethods__ = frozenset()\n",
      " |  \n",
      " |  ----------------------------------------------------------------------\n",
      " |  Methods inherited from h5py._hl.base.HLObject:\n",
      " |  \n",
      " |  __bool__(self)\n",
      " |  \n",
      " |  __eq__(self, other)\n",
      " |  \n",
      " |  __hash__(self)\n",
      " |  \n",
      " |  __ne__(self, other)\n",
      " |  \n",
      " |  __nonzero__ = __bool__(self)\n",
      " |  \n",
      " |  ----------------------------------------------------------------------\n",
      " |  Data descriptors inherited from h5py._hl.base.HLObject:\n",
      " |  \n",
      " |  attrs\n",
      " |      Attributes attached to this object\n",
      " |  \n",
      " |  file\n",
      " |      Return a File instance associated with this object\n",
      " |  \n",
      " |  id\n",
      " |      Low-level identifier appropriate for this object\n",
      " |  \n",
      " |  name\n",
      " |      Return the full name of this object.  None if anonymous.\n",
      " |  \n",
      " |  parent\n",
      " |      Return the parent group of this object.\n",
      " |      \n",
      " |      This is always equivalent to obj.file[posixpath.dirname(obj.name)].\n",
      " |      ValueError if this object is anonymous.\n",
      " |  \n",
      " |  ref\n",
      " |      An (opaque) HDF5 reference to this object\n",
      " |  \n",
      " |  regionref\n",
      " |      Create a region reference (Datasets only).\n",
      " |      \n",
      " |      The syntax is regionref[<slices>]. For example, dset.regionref[...]\n",
      " |      creates a region reference in which the whole dataset is selected.\n",
      " |      \n",
      " |      Can also be used to determine the shape of the referenced dataset\n",
      " |      (via .shape property), or the shape of the selection (via the\n",
      " |      .selection property).\n",
      " |  \n",
      " |  ----------------------------------------------------------------------\n",
      " |  Data descriptors inherited from h5py._hl.base.CommonStateObject:\n",
      " |  \n",
      " |  __dict__\n",
      " |      dictionary for instance variables (if defined)\n",
      " |  \n",
      " |  __weakref__\n",
      " |      list of weak references to the object (if defined)\n",
      " |  \n",
      " |  ----------------------------------------------------------------------\n",
      " |  Methods inherited from h5py._hl.base.MappingHDF5:\n",
      " |  \n",
      " |  items(self)\n",
      " |      Get a view object on member items\n",
      " |  \n",
      " |  keys(self)\n",
      " |      Get a view object on member names\n",
      " |  \n",
      " |  values(self)\n",
      " |      Get a view object on member objects\n",
      " |  \n",
      " |  ----------------------------------------------------------------------\n",
      " |  Methods inherited from collections.abc.MutableMapping:\n",
      " |  \n",
      " |  clear(self)\n",
      " |      D.clear() -> None.  Remove all items from D.\n",
      " |  \n",
      " |  pop(self, key, default=<object object at 0x7f19abe1f130>)\n",
      " |      D.pop(k[,d]) -> v, remove specified key and return the corresponding value.\n",
      " |      If key is not found, d is returned if given, otherwise KeyError is raised.\n",
      " |  \n",
      " |  popitem(self)\n",
      " |      D.popitem() -> (k, v), remove and return some (key, value) pair\n",
      " |      as a 2-tuple; but raise KeyError if D is empty.\n",
      " |  \n",
      " |  setdefault(self, key, default=None)\n",
      " |      D.setdefault(k[,d]) -> D.get(k,d), also set D[k]=d if k not in D\n",
      " |  \n",
      " |  update(*args, **kwds)\n",
      " |      D.update([E, ]**F) -> None.  Update D from mapping/iterable E and F.\n",
      " |      If E present and has a .keys() method, does:     for k in E: D[k] = E[k]\n",
      " |      If E present and lacks .keys() method, does:     for (k, v) in E: D[k] = v\n",
      " |      In either case, this is followed by: for k, v in F.items(): D[k] = v\n",
      " |  \n",
      " |  ----------------------------------------------------------------------\n",
      " |  Data and other attributes inherited from collections.abc.Mapping:\n",
      " |  \n",
      " |  __reversed__ = None\n",
      " |  \n",
      " |  ----------------------------------------------------------------------\n",
      " |  Class methods inherited from collections.abc.Collection:\n",
      " |  \n",
      " |  __subclasshook__(C) from abc.ABCMeta\n",
      " |      Abstract classes can override this to customize issubclass().\n",
      " |      \n",
      " |      This is invoked early on by abc.ABCMeta.__subclasscheck__().\n",
      " |      It should return True, False or NotImplemented.  If it returns\n",
      " |      NotImplemented, the normal algorithm is used.  Otherwise, it\n",
      " |      overrides the normal algorithm (and the outcome is cached).\n",
      "\n"
     ]
    }
   ],
   "source": [
    "ds = f['Total_Metals']\n",
    "help(ds)"
   ]
  },
  {
   "cell_type": "code",
   "execution_count": 30,
   "metadata": {},
   "outputs": [
    {
     "ename": "AttributeError",
     "evalue": "'Group' object has no attribute 'shape'",
     "output_type": "error",
     "traceback": [
      "\u001b[0;31m---------------------------------------------------------------------------\u001b[0m",
      "\u001b[0;31mAttributeError\u001b[0m                            Traceback (most recent call last)",
      "\u001b[0;32m<ipython-input-30-f3396706095f>\u001b[0m in \u001b[0;36m<module>\u001b[0;34m\u001b[0m\n\u001b[0;32m----> 1\u001b[0;31m \u001b[0mmy_data\u001b[0m\u001b[0;34m.\u001b[0m\u001b[0mshape\u001b[0m\u001b[0;34m\u001b[0m\u001b[0;34m\u001b[0m\u001b[0m\n\u001b[0m",
      "\u001b[0;31mAttributeError\u001b[0m: 'Group' object has no attribute 'shape'"
     ]
    }
   ],
   "source": [
    "my_data.shape"
   ]
  },
  {
   "cell_type": "code",
   "execution_count": 8,
   "metadata": {},
   "outputs": [
    {
     "ename": "ValueError",
     "evalue": "no table found in HDF5 group None",
     "output_type": "error",
     "traceback": [
      "\u001b[0;31m---------------------------------------------------------------------------\u001b[0m",
      "\u001b[0;31mValueError\u001b[0m                                Traceback (most recent call last)",
      "\u001b[0;32m<ipython-input-8-b673208aa57c>\u001b[0m in \u001b[0;36m<module>\u001b[0;34m\u001b[0m\n\u001b[1;32m      1\u001b[0m \u001b[0;32mfrom\u001b[0m \u001b[0mastropy\u001b[0m \u001b[0;32mimport\u001b[0m \u001b[0mtable\u001b[0m\u001b[0;34m\u001b[0m\u001b[0;34m\u001b[0m\u001b[0m\n\u001b[1;32m      2\u001b[0m \u001b[0;34m\u001b[0m\u001b[0m\n\u001b[0;32m----> 3\u001b[0;31m \u001b[0mtable\u001b[0m\u001b[0;34m.\u001b[0m\u001b[0mTable\u001b[0m\u001b[0;34m.\u001b[0m\u001b[0mread\u001b[0m\u001b[0;34m(\u001b[0m\u001b[0;34m'../../CoolingRoutines/CoolingTables/z_collis.hdf5'\u001b[0m\u001b[0;34m)\u001b[0m\u001b[0;34m\u001b[0m\u001b[0;34m\u001b[0m\u001b[0m\n\u001b[0m",
      "\u001b[0;32m~/miniconda3/lib/python3.7/site-packages/astropy/table/table.py\u001b[0m in \u001b[0;36mread\u001b[0;34m(cls, *args, **kwargs)\u001b[0m\n\u001b[1;32m   2548\u001b[0m         \u001b[0;31m# RST table and inserts at the end of the docstring.  DO NOT REMOVE.\u001b[0m\u001b[0;34m\u001b[0m\u001b[0;34m\u001b[0m\u001b[0;34m\u001b[0m\u001b[0m\n\u001b[1;32m   2549\u001b[0m \u001b[0;34m\u001b[0m\u001b[0m\n\u001b[0;32m-> 2550\u001b[0;31m         \u001b[0mout\u001b[0m \u001b[0;34m=\u001b[0m \u001b[0mio_registry\u001b[0m\u001b[0;34m.\u001b[0m\u001b[0mread\u001b[0m\u001b[0;34m(\u001b[0m\u001b[0mcls\u001b[0m\u001b[0;34m,\u001b[0m \u001b[0;34m*\u001b[0m\u001b[0margs\u001b[0m\u001b[0;34m,\u001b[0m \u001b[0;34m**\u001b[0m\u001b[0mkwargs\u001b[0m\u001b[0;34m)\u001b[0m\u001b[0;34m\u001b[0m\u001b[0;34m\u001b[0m\u001b[0m\n\u001b[0m\u001b[1;32m   2551\u001b[0m         \u001b[0;31m# For some readers (e.g., ascii.ecsv), the returned `out` class is not\u001b[0m\u001b[0;34m\u001b[0m\u001b[0;34m\u001b[0m\u001b[0;34m\u001b[0m\u001b[0m\n\u001b[1;32m   2552\u001b[0m         \u001b[0;31m# guaranteed to be the same as the desired output `cls`.  If so,\u001b[0m\u001b[0;34m\u001b[0m\u001b[0;34m\u001b[0m\u001b[0;34m\u001b[0m\u001b[0m\n",
      "\u001b[0;32m~/miniconda3/lib/python3.7/site-packages/astropy/io/registry.py\u001b[0m in \u001b[0;36mread\u001b[0;34m(cls, format, *args, **kwargs)\u001b[0m\n\u001b[1;32m    515\u001b[0m \u001b[0;34m\u001b[0m\u001b[0m\n\u001b[1;32m    516\u001b[0m         \u001b[0mreader\u001b[0m \u001b[0;34m=\u001b[0m \u001b[0mget_reader\u001b[0m\u001b[0;34m(\u001b[0m\u001b[0mformat\u001b[0m\u001b[0;34m,\u001b[0m \u001b[0mcls\u001b[0m\u001b[0;34m)\u001b[0m\u001b[0;34m\u001b[0m\u001b[0;34m\u001b[0m\u001b[0m\n\u001b[0;32m--> 517\u001b[0;31m         \u001b[0mdata\u001b[0m \u001b[0;34m=\u001b[0m \u001b[0mreader\u001b[0m\u001b[0;34m(\u001b[0m\u001b[0;34m*\u001b[0m\u001b[0margs\u001b[0m\u001b[0;34m,\u001b[0m \u001b[0;34m**\u001b[0m\u001b[0mkwargs\u001b[0m\u001b[0;34m)\u001b[0m\u001b[0;34m\u001b[0m\u001b[0;34m\u001b[0m\u001b[0m\n\u001b[0m\u001b[1;32m    518\u001b[0m \u001b[0;34m\u001b[0m\u001b[0m\n\u001b[1;32m    519\u001b[0m         \u001b[0;32mif\u001b[0m \u001b[0;32mnot\u001b[0m \u001b[0misinstance\u001b[0m\u001b[0;34m(\u001b[0m\u001b[0mdata\u001b[0m\u001b[0;34m,\u001b[0m \u001b[0mcls\u001b[0m\u001b[0;34m)\u001b[0m\u001b[0;34m:\u001b[0m\u001b[0;34m\u001b[0m\u001b[0;34m\u001b[0m\u001b[0m\n",
      "\u001b[0;32m~/miniconda3/lib/python3.7/site-packages/astropy/io/misc/hdf5.py\u001b[0m in \u001b[0;36mread_table_hdf5\u001b[0;34m(input, path, character_as_bytes)\u001b[0m\n\u001b[1;32m    140\u001b[0m \u001b[0;34m\u001b[0m\u001b[0m\n\u001b[1;32m    141\u001b[0m         \u001b[0;32mtry\u001b[0m\u001b[0;34m:\u001b[0m\u001b[0;34m\u001b[0m\u001b[0;34m\u001b[0m\u001b[0m\n\u001b[0;32m--> 142\u001b[0;31m             \u001b[0;32mreturn\u001b[0m \u001b[0mread_table_hdf5\u001b[0m\u001b[0;34m(\u001b[0m\u001b[0mf\u001b[0m\u001b[0;34m,\u001b[0m \u001b[0mpath\u001b[0m\u001b[0;34m=\u001b[0m\u001b[0mpath\u001b[0m\u001b[0;34m,\u001b[0m \u001b[0mcharacter_as_bytes\u001b[0m\u001b[0;34m=\u001b[0m\u001b[0mcharacter_as_bytes\u001b[0m\u001b[0;34m)\u001b[0m\u001b[0;34m\u001b[0m\u001b[0;34m\u001b[0m\u001b[0m\n\u001b[0m\u001b[1;32m    143\u001b[0m         \u001b[0;32mfinally\u001b[0m\u001b[0;34m:\u001b[0m\u001b[0;34m\u001b[0m\u001b[0;34m\u001b[0m\u001b[0m\n\u001b[1;32m    144\u001b[0m             \u001b[0mf\u001b[0m\u001b[0;34m.\u001b[0m\u001b[0mclose\u001b[0m\u001b[0;34m(\u001b[0m\u001b[0;34m)\u001b[0m\u001b[0;34m\u001b[0m\u001b[0;34m\u001b[0m\u001b[0m\n",
      "\u001b[0;32m~/miniconda3/lib/python3.7/site-packages/astropy/io/misc/hdf5.py\u001b[0m in \u001b[0;36mread_table_hdf5\u001b[0;34m(input, path, character_as_bytes)\u001b[0m\n\u001b[1;32m    114\u001b[0m             \u001b[0;32mif\u001b[0m \u001b[0mlen\u001b[0m\u001b[0;34m(\u001b[0m\u001b[0marrays\u001b[0m\u001b[0;34m)\u001b[0m \u001b[0;34m==\u001b[0m \u001b[0;36m0\u001b[0m\u001b[0;34m:\u001b[0m\u001b[0;34m\u001b[0m\u001b[0;34m\u001b[0m\u001b[0m\n\u001b[1;32m    115\u001b[0m                 raise ValueError(\"no table found in HDF5 group {0}\".\n\u001b[0;32m--> 116\u001b[0;31m                                  format(path))\n\u001b[0m\u001b[1;32m    117\u001b[0m             \u001b[0;32melif\u001b[0m \u001b[0mlen\u001b[0m\u001b[0;34m(\u001b[0m\u001b[0marrays\u001b[0m\u001b[0;34m)\u001b[0m \u001b[0;34m>\u001b[0m \u001b[0;36m0\u001b[0m\u001b[0;34m:\u001b[0m\u001b[0;34m\u001b[0m\u001b[0;34m\u001b[0m\u001b[0m\n\u001b[1;32m    118\u001b[0m                 \u001b[0mpath\u001b[0m \u001b[0;34m=\u001b[0m \u001b[0marrays\u001b[0m\u001b[0;34m[\u001b[0m\u001b[0;36m0\u001b[0m\u001b[0;34m]\u001b[0m \u001b[0;32mif\u001b[0m \u001b[0mpath\u001b[0m \u001b[0;32mis\u001b[0m \u001b[0;32mNone\u001b[0m \u001b[0;32melse\u001b[0m \u001b[0mpath\u001b[0m \u001b[0;34m+\u001b[0m \u001b[0;34m'/'\u001b[0m \u001b[0;34m+\u001b[0m \u001b[0marrays\u001b[0m\u001b[0;34m[\u001b[0m\u001b[0;36m0\u001b[0m\u001b[0;34m]\u001b[0m\u001b[0;34m\u001b[0m\u001b[0;34m\u001b[0m\u001b[0m\n",
      "\u001b[0;31mValueError\u001b[0m: no table found in HDF5 group None"
     ]
    }
   ],
   "source": [
    "from astropy import table\n",
    "\n",
    "table.Table.read()"
   ]
  },
  {
   "cell_type": "code",
   "execution_count": null,
   "metadata": {},
   "outputs": [],
   "source": [
    "fname = '../data/Wiersma09_z_collis.txt'\n",
    "df = pd.read_csv(fname, sep='\\s+', header=None,\n",
    "                 names=['Temp', 'Lambda_HHe', 'xe', 'Lambda_Metal'],\n",
    "                 usecols=[0, 11, 12, 15], squeeze=True)\n"
   ]
  },
  {
   "cell_type": "code",
   "execution_count": 4,
   "metadata": {},
   "outputs": [
    {
     "data": {
      "text/plain": [
       "[<matplotlib.lines.Line2D at 0x7f197fa2bd90>]"
      ]
     },
     "execution_count": 4,
     "metadata": {},
     "output_type": "execute_result"
    },
    {
     "data": {
      "image/png": "[encoded data removed]",
      "text/plain": [
       "<Figure size 432x288 with 1 Axes>"
      ]
     },
     "metadata": {
      "needs_background": "light"
     },
     "output_type": "display_data"
    }
   ],
   "source": [
    "import KI02\n",
    "cf = KI02.coolftn()\n",
    "#T1 = np.logspace(1, 8)\n",
    "T = cf.get_temp(cf.T1)\n",
    "plt.loglog(T, cf.cool)"
   ]
  },
  {
   "cell_type": "code",
   "execution_count": 5,
   "metadata": {},
   "outputs": [
    {
     "data": {
      "text/plain": [
       "Text(0, 0.5, '$T/\\\\mu\\\\;[{\\\\rm K}]$')"
      ]
     },
     "execution_count": 5,
     "metadata": {},
     "output_type": "execute_result"
    },
    {
     "data": {
      "image/png": "[encoded data removed]",
      "text/plain": [
       "<Figure size 720x864 with 4 Axes>"
      ]
     },
     "metadata": {
      "needs_background": "light"
     },
     "output_type": "display_data"
    }
   ],
   "source": [
    "import pandas as pd\n",
    "\n",
    "nHe_nH = 0.10186 # see \"../data/Wiersma09_z_collis_README.txt\"\n",
    "muH = 1.4102696461206388\n",
    "\n",
    "fname = '../data/Wiersma09_z_collis.txt'\n",
    "df = pd.read_csv(fname, sep='\\s+', header=None,\n",
    "                 names=['Temp', 'Lambda_HHe', 'xe', 'Lambda_Metal'],\n",
    "                 usecols=[0, 11, 12, 15], squeeze=True)\n",
    "df['Lambda'] = df['Lambda_HHe'] + df['Lambda_Metal'] \n",
    "\n",
    "df['mu'] = muH/(1.0 + nHe_nH + df['xe'])\n",
    "df['Temp1'] = df['Temp']/df['mu']\n",
    "fig, axes = plt.subplots(3, 1, figsize=(10, 12), sharex=True)\n",
    "\n",
    "plt.sca(axes[0])\n",
    "plt.loglog(df['Temp'], ct.coolingHotHHe(df.Temp), 'r--')\n",
    "plt.loglog(df['Temp'], ct.coolingHotMetal(df.Temp, 1), 'r--')\n",
    "plt.loglog(df['Temp'], df['Lambda'], '-')\n",
    "plt.loglog(df['Temp'], df['Lambda_HHe'], '-')\n",
    "plt.loglog(df['Temp'], df['Lambda_Metal'], '-')\n",
    "plt.xlim(5e3, 1e9)\n",
    "plt.ylim(1e-27,1e-21)\n",
    "plt.xlabel('T [K]')\n",
    "plt.ylabel(r'$\\Lambda$')\n",
    "plt.grid()\n",
    "plt.gca().grid(which='major', alpha=0.3)\n",
    "\n",
    "\n",
    "plt.sca(axes[1])\n",
    "plt.loglog(df['Temp'], df['xe'], 'k-')\n",
    "\n",
    "plt.xlim(6e3, 1e9)\n",
    "plt.ylim(1e-4, 2e0)\n",
    "plt.xlabel('T [K]')\n",
    "plt.ylabel(r'$x_{\\rm e}$')\n",
    "\n",
    "axt = plt.gca().twinx()\n",
    "axt.semilogx(df['Temp'], df['mu'], 'r-')\n",
    "axt.spines['right'].set_color('red')\n",
    "axt.tick_params(axis='y', colors='red')\n",
    "axt.set_ylabel(r'$\\mu$')\n",
    "axt.yaxis.label.set_color('red')\n",
    "\n",
    "plt.sca(axes[2])\n",
    "plt.loglog(df['Temp'], df['Temp1'], 'k-')\n",
    "plt.loglog(df['Temp'], df['Temp'], '--', c='grey', alpha=0.5)\n",
    "plt.xlim(6e3, 1e9)\n",
    "# plt.ylim(1e-4, 2e0)\n",
    "plt.xlabel('T [K]')\n",
    "plt.ylabel(r'$T/\\mu\\;[{\\rm K}]$')\n",
    "\n",
    "# axt = plt.gca().twinx()\n",
    "# axt.semilogx(df['Temp'], df['mu'], 'r-')\n",
    "# axt.spines['right'].set_color('red')\n",
    "# axt.tick_params(axis='y', colors='red')\n",
    "# axt.set_ylabel(r'$\\mu$')\n",
    "# axt.yaxis.label.set_color('red')"
   ]
  },
  {
   "cell_type": "markdown",
   "metadata": {},
   "source": [
    "* How to make $x_e(T)$ to depend on metallicity?"
   ]
  },
  {
   "cell_type": "markdown",
   "metadata": {},
   "source": [
    "## Generate table for cool_tigress.c (logarithmically equally spaced in Tmu)\n",
    "### Copy and paste printed numpy arrays"
   ]
  },
  {
   "cell_type": "code",
   "execution_count": 10,
   "metadata": {},
   "outputs": [],
   "source": [
    "from scipy.interpolate import interp1d\n",
    "\n",
    "df['logT'] = np.log10(df.Temp)\n",
    "df['logT1'] = np.log10(df.Temp1)\n",
    "logTmin = 3.8\n",
    "logT1min = df.loc[df['logT'] > logTmin, 'logT1'].min()\n",
    "logT1max = df.loc[df['logT'] > logTmin, 'logT1'].max()\n",
    "\n",
    "xin = np.array(df.loc[df['logT1'] > logT1min, 'logT'])\n",
    "x1in = np.array(df.loc[df['logT1'] > logT1min, 'logT1'])\n",
    "yin_LHHe = np.log10(df.loc[df['logT1'] > logT1min, 'Lambda_HHe'])\n",
    "yin_LM = np.log10(df.loc[df['logT1'] > logT1min, 'Lambda_Metal'])\n",
    "yin_xe = df.loc[df['logT1'] > logT1min, 'xe']\n",
    "yin_Temp = df.loc[df['logT1'] > logT1min, 'logT']\n",
    "\n",
    "fLHHe = interp1d(xin, yin_LHHe)\n",
    "fLM = interp1d(xin, yin_LM)\n",
    "fxe = interp1d(xin, yin_xe)\n",
    "\n",
    "f1LHHe = interp1d(x1in, yin_LHHe)\n",
    "f1LM = interp1d(x1in, yin_LM)\n",
    "f1xe = interp1d(x1in, yin_xe)\n",
    "f1Temp = interp1d(x1in, yin_Temp)"
   ]
  },
  {
   "cell_type": "code",
   "execution_count": 37,
   "metadata": {},
   "outputs": [
    {
     "data": {
      "text/plain": [
       "4.079181246047625"
      ]
     },
     "execution_count": 37,
     "metadata": {},
     "output_type": "execute_result"
    }
   ],
   "source": [
    "np.log10(12000.0)"
   ]
  },
  {
   "cell_type": "code",
   "execution_count": 22,
   "metadata": {},
   "outputs": [
    {
     "data": {
      "text/plain": [
       "[<matplotlib.lines.Line2D at 0x7f050c1590f0>]"
      ]
     },
     "execution_count": 22,
     "metadata": {},
     "output_type": "execute_result"
    },
    {
     "data": {
      "image/png": "[encoded data removed]",
      "text/plain": [
       "<Figure size 432x288 with 1 Axes>"
      ]
     },
     "metadata": {
      "needs_background": "light"
     },
     "output_type": "display_data"
    }
   ],
   "source": [
    "logT1 = np.linspace(3.8,5)\n",
    "plt.loglog(logT1, f1Temp(logT1))\n",
    "plt.loglog([3.8,5],[3.8,5],'k--')"
   ]
  },
  {
   "cell_type": "code",
   "execution_count": 33,
   "metadata": {},
   "outputs": [
    {
     "data": {
      "text/plain": [
       "7825.282050666118"
      ]
     },
     "execution_count": 33,
     "metadata": {},
     "output_type": "execute_result"
    }
   ],
   "source": [
    "10.0**3.8935"
   ]
  },
  {
   "cell_type": "code",
   "execution_count": 32,
   "metadata": {},
   "outputs": [
    {
     "data": {
      "text/plain": [
       "9999.92869863202"
      ]
     },
     "execution_count": 32,
     "metadata": {},
     "output_type": "execute_result"
    }
   ],
   "source": [
    "10.0**f1Temp(3.8935)"
   ]
  },
  {
   "cell_type": "code",
   "execution_count": 7,
   "metadata": {},
   "outputs": [
    {
     "data": {
      "text/plain": [
       "8994.975815300355"
      ]
     },
     "execution_count": 7,
     "metadata": {},
     "output_type": "execute_result"
    }
   ],
   "source": [
    "10.0**3.954"
   ]
  },
  {
   "cell_type": "code",
   "execution_count": 14,
   "metadata": {},
   "outputs": [
    {
     "data": {
      "text/plain": [
       "7943.282347242814"
      ]
     },
     "execution_count": 14,
     "metadata": {},
     "output_type": "execute_result"
    }
   ],
   "source": [
    "10.0**3.9"
   ]
  },
  {
   "cell_type": "code",
   "execution_count": 13,
   "metadata": {
    "scrolled": false
   },
   "outputs": [
    {
     "name": "stdout",
     "output_type": "stream",
     "text": [
      "log10Tmin, log10Tmax 3.83 8.98\n",
      "Tmin, Tmax 6760.829753919819 954992586.0214369\n",
      "log10T1min, log10T1max 3.73 9.18\n",
      "T1min, T1max 5370.317963702527 1513561248.436207\n",
      "length of array T, T1 516 546\n",
      "dlog10T dlog10T1 0.01 0.01\n"
     ]
    },
    {
     "data": {
      "text/plain": [
       "array([3.73, 3.74, 3.75, 3.76, 3.77, 3.78, 3.79, 3.8 , 3.81, 3.82, 3.83,\n",
       "       3.84, 3.85, 3.86, 3.87, 3.88, 3.89, 3.9 , 3.91, 3.92, 3.93, 3.94,\n",
       "       3.95, 3.96, 3.97, 3.98, 3.99, 4.  , 4.01, 4.02, 4.03, 4.04, 4.05,\n",
       "       4.06, 4.07, 4.08, 4.09, 4.1 , 4.11, 4.12, 4.13, 4.14, 4.15, 4.16,\n",
       "       4.17, 4.18, 4.19, 4.2 , 4.21, 4.22, 4.23, 4.24, 4.25, 4.26, 4.27,\n",
       "       4.28, 4.29, 4.3 , 4.31, 4.32, 4.33, 4.34, 4.35, 4.36, 4.37, 4.38,\n",
       "       4.39, 4.4 , 4.41, 4.42, 4.43, 4.44, 4.45, 4.46, 4.47, 4.48, 4.49,\n",
       "       4.5 , 4.51, 4.52, 4.53, 4.54, 4.55, 4.56, 4.57, 4.58, 4.59, 4.6 ,\n",
       "       4.61, 4.62, 4.63, 4.64, 4.65, 4.66, 4.67, 4.68, 4.69, 4.7 , 4.71,\n",
       "       4.72, 4.73, 4.74, 4.75, 4.76, 4.77, 4.78, 4.79, 4.8 , 4.81, 4.82,\n",
       "       4.83, 4.84, 4.85, 4.86, 4.87, 4.88, 4.89, 4.9 , 4.91, 4.92, 4.93,\n",
       "       4.94, 4.95, 4.96, 4.97, 4.98, 4.99, 5.  , 5.01, 5.02, 5.03, 5.04,\n",
       "       5.05, 5.06, 5.07, 5.08, 5.09, 5.1 , 5.11, 5.12, 5.13, 5.14, 5.15,\n",
       "       5.16, 5.17, 5.18, 5.19, 5.2 , 5.21, 5.22, 5.23, 5.24, 5.25, 5.26,\n",
       "       5.27, 5.28, 5.29, 5.3 , 5.31, 5.32, 5.33, 5.34, 5.35, 5.36, 5.37,\n",
       "       5.38, 5.39, 5.4 , 5.41, 5.42, 5.43, 5.44, 5.45, 5.46, 5.47, 5.48,\n",
       "       5.49, 5.5 , 5.51, 5.52, 5.53, 5.54, 5.55, 5.56, 5.57, 5.58, 5.59,\n",
       "       5.6 , 5.61, 5.62, 5.63, 5.64, 5.65, 5.66, 5.67, 5.68, 5.69, 5.7 ,\n",
       "       5.71, 5.72, 5.73, 5.74, 5.75, 5.76, 5.77, 5.78, 5.79, 5.8 , 5.81,\n",
       "       5.82, 5.83, 5.84, 5.85, 5.86, 5.87, 5.88, 5.89, 5.9 , 5.91, 5.92,\n",
       "       5.93, 5.94, 5.95, 5.96, 5.97, 5.98, 5.99, 6.  , 6.01, 6.02, 6.03,\n",
       "       6.04, 6.05, 6.06, 6.07, 6.08, 6.09, 6.1 , 6.11, 6.12, 6.13, 6.14,\n",
       "       6.15, 6.16, 6.17, 6.18, 6.19, 6.2 , 6.21, 6.22, 6.23, 6.24, 6.25,\n",
       "       6.26, 6.27, 6.28, 6.29, 6.3 , 6.31, 6.32, 6.33, 6.34, 6.35, 6.36,\n",
       "       6.37, 6.38, 6.39, 6.4 , 6.41, 6.42, 6.43, 6.44, 6.45, 6.46, 6.47,\n",
       "       6.48, 6.49, 6.5 , 6.51, 6.52, 6.53, 6.54, 6.55, 6.56, 6.57, 6.58,\n",
       "       6.59, 6.6 , 6.61, 6.62, 6.63, 6.64, 6.65, 6.66, 6.67, 6.68, 6.69,\n",
       "       6.7 , 6.71, 6.72, 6.73, 6.74, 6.75, 6.76, 6.77, 6.78, 6.79, 6.8 ,\n",
       "       6.81, 6.82, 6.83, 6.84, 6.85, 6.86, 6.87, 6.88, 6.89, 6.9 , 6.91,\n",
       "       6.92, 6.93, 6.94, 6.95, 6.96, 6.97, 6.98, 6.99, 7.  , 7.01, 7.02,\n",
       "       7.03, 7.04, 7.05, 7.06, 7.07, 7.08, 7.09, 7.1 , 7.11, 7.12, 7.13,\n",
       "       7.14, 7.15, 7.16, 7.17, 7.18, 7.19, 7.2 , 7.21, 7.22, 7.23, 7.24,\n",
       "       7.25, 7.26, 7.27, 7.28, 7.29, 7.3 , 7.31, 7.32, 7.33, 7.34, 7.35,\n",
       "       7.36, 7.37, 7.38, 7.39, 7.4 , 7.41, 7.42, 7.43, 7.44, 7.45, 7.46,\n",
       "       7.47, 7.48, 7.49, 7.5 , 7.51, 7.52, 7.53, 7.54, 7.55, 7.56, 7.57,\n",
       "       7.58, 7.59, 7.6 , 7.61, 7.62, 7.63, 7.64, 7.65, 7.66, 7.67, 7.68,\n",
       "       7.69, 7.7 , 7.71, 7.72, 7.73, 7.74, 7.75, 7.76, 7.77, 7.78, 7.79,\n",
       "       7.8 , 7.81, 7.82, 7.83, 7.84, 7.85, 7.86, 7.87, 7.88, 7.89, 7.9 ,\n",
       "       7.91, 7.92, 7.93, 7.94, 7.95, 7.96, 7.97, 7.98, 7.99, 8.  , 8.01,\n",
       "       8.02, 8.03, 8.04, 8.05, 8.06, 8.07, 8.08, 8.09, 8.1 , 8.11, 8.12,\n",
       "       8.13, 8.14, 8.15, 8.16, 8.17, 8.18, 8.19, 8.2 , 8.21, 8.22, 8.23,\n",
       "       8.24, 8.25, 8.26, 8.27, 8.28, 8.29, 8.3 , 8.31, 8.32, 8.33, 8.34,\n",
       "       8.35, 8.36, 8.37, 8.38, 8.39, 8.4 , 8.41, 8.42, 8.43, 8.44, 8.45,\n",
       "       8.46, 8.47, 8.48, 8.49, 8.5 , 8.51, 8.52, 8.53, 8.54, 8.55, 8.56,\n",
       "       8.57, 8.58, 8.59, 8.6 , 8.61, 8.62, 8.63, 8.64, 8.65, 8.66, 8.67,\n",
       "       8.68, 8.69, 8.7 , 8.71, 8.72, 8.73, 8.74, 8.75, 8.76, 8.77, 8.78,\n",
       "       8.79, 8.8 , 8.81, 8.82, 8.83, 8.84, 8.85, 8.86, 8.87, 8.88, 8.89,\n",
       "       8.9 , 8.91, 8.92, 8.93, 8.94, 8.95, 8.96, 8.97, 8.98, 8.99, 9.  ,\n",
       "       9.01, 9.02, 9.03, 9.04, 9.05, 9.06, 9.07, 9.08, 9.09, 9.1 , 9.11,\n",
       "       9.12, 9.13, 9.14, 9.15, 9.16, 9.17, 9.18])"
      ]
     },
     "execution_count": 13,
     "metadata": {},
     "output_type": "execute_result"
    }
   ],
   "source": [
    "dlog10T = 0.01\n",
    "log10Tmin = 3.83\n",
    "log10Tmax = 8.98\n",
    "xout = np.arange(log10Tmin, log10Tmax + dlog10T, dlog10T)\n",
    "\n",
    "dlog10T1 = 0.01\n",
    "log10T1min = 3.73\n",
    "log10T1max = 9.18\n",
    "x1out = np.arange(log10T1min, log10T1max + dlog10T1, dlog10T1)\n",
    "\n",
    "#print(logT1min, logT1max, x1in.max(), x1out.min(), x1out.max())\n",
    "\n",
    "print('log10Tmin, log10Tmax', log10Tmin, log10Tmax)\n",
    "print('Tmin, Tmax', 10.0**log10Tmin, 10.0**log10Tmax)\n",
    "print('log10T1min, log10T1max', log10T1min, log10T1max)\n",
    "print('T1min, T1max', 10.0**log10T1min, 10.0**log10T1max)\n",
    "print('length of array T, T1', len(xout), len(x1out))\n",
    "print('dlog10T dlog10T1', dlog10T, dlog10T1)\n",
    "\n",
    "#xout\n",
    "#fLHHe(xout)\n",
    "#fLM(xout)\n",
    "# fxe(xout)\n",
    "x1out\n",
    "#f1Temp(x1out)"
   ]
  },
  {
   "cell_type": "markdown",
   "metadata": {},
   "source": [
    "# Table 1.4 in Draine (2011) : Protosolar abundances of the Elements with $Z \\le 32$ (based on Asplund+2009)"
   ]
  },
  {
   "cell_type": "code",
   "execution_count": 2,
   "metadata": {},
   "outputs": [
    {
     "ename": "NameError",
     "evalue": "name 'AbundanceSolar' is not defined",
     "output_type": "error",
     "traceback": [
      "\u001b[0;31m---------------------------------------------------------------------------\u001b[0m",
      "\u001b[0;31mNameError\u001b[0m                                 Traceback (most recent call last)",
      "\u001b[0;32m<ipython-input-2-88a465e6847e>\u001b[0m in \u001b[0;36m<module>\u001b[0;34m\u001b[0m\n\u001b[0;32m----> 1\u001b[0;31m \u001b[0ma\u001b[0m \u001b[0;34m=\u001b[0m \u001b[0mAbundanceSolar\u001b[0m\u001b[0;34m(\u001b[0m\u001b[0mnHe_nH\u001b[0m\u001b[0;34m=\u001b[0m\u001b[0;36m9.55e-2\u001b[0m\u001b[0;34m,\u001b[0m \u001b[0mZprime\u001b[0m\u001b[0;34m=\u001b[0m\u001b[0;36m1.0\u001b[0m\u001b[0;34m)\u001b[0m\u001b[0;34m\u001b[0m\u001b[0;34m\u001b[0m\u001b[0m\n\u001b[0m\u001b[1;32m      2\u001b[0m \u001b[0ma\u001b[0m\u001b[0;34m.\u001b[0m\u001b[0mget_XYZ_muH_mu\u001b[0m\u001b[0;34m(\u001b[0m\u001b[0;34m)\u001b[0m\u001b[0;34m\u001b[0m\u001b[0;34m\u001b[0m\u001b[0m\n",
      "\u001b[0;31mNameError\u001b[0m: name 'AbundanceSolar' is not defined"
     ]
    }
   ],
   "source": [
    "a = AbundanceSolar(nHe_nH=9.55e-2, Zprime=1.0)\n",
    "a.get_XYZ_muH_mu()"
   ]
  },
  {
   "cell_type": "code",
   "execution_count": 5,
   "metadata": {},
   "outputs": [
    {
     "data": {
      "image/png": "[encoded data removed]",
      "text/plain": [
       "<Figure size 864x360 with 2 Axes>"
      ]
     },
     "metadata": {
      "needs_background": "light"
     },
     "output_type": "display_data"
    }
   ],
   "source": [
    "from abundance_solar import AbundanceSolar\n",
    "\n",
    "mpl.rcParams['font.size'] = 14\n",
    "fig, axes = plt.subplots(1, 2, figsize=(12, 5))\n",
    "Zp = np.array([0.1, 0.5, 1.0, 1.5, 2.0])\n",
    "Zps = np.logspace(-2, np.log10(3.0))\n",
    "\n",
    "rr = dict()\n",
    "for i, Zp in enumerate(Zps):\n",
    "    a = AbundanceSolar(Zprime=Zp)\n",
    "    r = a.get_XYZ_muH_mu()\n",
    "    if i == 0:\n",
    "        for k in r.keys():\n",
    "            rr[k] = np.empty((0,))\n",
    "\n",
    "    for k in r.keys():\n",
    "        rr[k] = np.append(rr[k], r[k])\n",
    "        \n",
    "plt.sca(axes[0])\n",
    "plt.plot(Zps, rr['mu_ato'], label=r'$\\mu_{\\rm ato}$')\n",
    "plt.plot(Zps, rr['xe_ion'], label=r'$x_{\\rm e,ion}$')\n",
    "plt.plot(Zps, rr['muH'], label=r'$\\mu_{\\rm H}$')\n",
    "#plt.xscale('log')\n",
    "plt.xlabel(r'$Z^{\\prime}$')\n",
    "plt.legend()\n",
    "plt.grid()\n",
    "plt.gca().grid(which='minor', alpha=0.2)\n",
    "plt.gca().grid(which='major', alpha=0.5)\n",
    "\n",
    "plt.sca(axes[1])\n",
    "plt.plot(Zps, rr['Z'], label='Z')\n",
    "plt.plot(Zps, rr['xMetal'], label=r'$x_{\\rm Metal}$')\n",
    "plt.xscale('log')\n",
    "plt.yscale('log')\n",
    "plt.xlabel(r'$Z^{\\prime}$')\n",
    "plt.legend()\n",
    "plt.grid()\n",
    "plt.gca().grid(which='minor', alpha=0.2)\n",
    "plt.gca().grid(which='major', alpha=0.5)\n",
    "\n",
    "plt.suptitle(r'$Z^{\\prime}=1$ for Asplund+09 solar abundance '\n",
    "             + r'(dust depletion ignored)')\n",
    "plt.subplots_adjust(top=0.9)"
   ]
  },
  {
   "cell_type": "code",
   "execution_count": 22,
   "metadata": {},
   "outputs": [
    {
     "data": {
      "text/plain": [
       "<matplotlib.legend.Legend at 0x7f8fa53b4668>"
      ]
     },
     "execution_count": 22,
     "metadata": {},
     "output_type": "execute_result"
    },
    {
     "data": {
      "image/png": "[encoded data removed]",
      "text/plain": [
       "<Figure size 432x288 with 1 Axes>"
      ]
     },
     "metadata": {
      "needs_background": "light"
     },
     "output_type": "display_data"
    }
   ],
   "source": []
  },
  {
   "cell_type": "code",
   "execution_count": 6,
   "metadata": {},
   "outputs": [
    {
     "data": {
      "text/plain": [
       "array([1.39044851, 1.39047323, 1.390501  , 1.39053219, 1.39056724,\n",
       "       1.39060661, 1.39065084, 1.39070054, 1.39075637, 1.39081909,\n",
       "       1.39088955, 1.39096871, 1.39105765, 1.39115756, 1.39126981,\n",
       "       1.39139591, 1.39153759, 1.39169675, 1.39187556, 1.39207644,\n",
       "       1.39230212, 1.39255567, 1.39284051, 1.39316052, 1.39352003,\n",
       "       1.39392392, 1.39437767, 1.39488744, 1.39546014, 1.39610354,\n",
       "       1.39682636, 1.39763842, 1.39855073, 1.39957566, 1.40072711,\n",
       "       1.40202072, 1.40347401, 1.40510672, 1.40694098, 1.40900168,\n",
       "       1.41131677, 1.41391766, 1.41683963, 1.42012231, 1.42381024,\n",
       "       1.42795344, 1.43260811, 1.43783741, 1.44371225, 1.45031234])"
      ]
     },
     "execution_count": 6,
     "metadata": {},
     "output_type": "execute_result"
    }
   ],
   "source": []
  },
  {
   "cell_type": "markdown",
   "metadata": {},
   "source": [
    "# Chang-Goo's note\n",
    "\n",
    "## CIE cooling in Sutherland & Dopita (1993; SD93)\n",
    "\n",
    "### From Abundance Table (Table 4)\n",
    "    \n",
    "| Spicies | -log(ni/nH) | Z_i | A_i |Spicies | -log(ni/nH) | Z_i | A_i |\n",
    "| --- | --- | --- | --- |--- | --- | --- | --- |\n",
    "| H | 0.0 | 1 | 1 | He|-1.01| 2 | 4 |\n",
    "| C | -3.44 | 6 | 12 | N | -3.95 | 7 | 14 |\n",
    "| O | -3.07 | 8 | 16 | Ne | -3.91 | 10 | 20.2 |\n",
    "| Na | -5.67 | 11 | 23 | Mg | -4.42 | 12 |24.3 |\n",
    "| Al | -5.53 | 13 | 27 | Si | -4.45 | 14 | 28.1 |\n",
    "| S | -4.79 | 16 | 32.1 | Cl | -6.5 | 17 | 35.5 |\n",
    "| Ar | -5.44 | 18 | 39.9 | Ca | -5.64 | 20 | 40.1 |\n",
    "| Fe | -4.33 | 26 | 55.8 | Ni | -5.75 | 28 | 58.7 |"
   ]
  },
  {
   "cell_type": "code",
   "execution_count": 109,
   "metadata": {},
   "outputs": [
    {
     "name": "stdout",
     "output_type": "stream",
     "text": [
      "mu 1.2903022628772858\n",
      "mu 0.6144689227371525\n",
      "muH 1.4184586501912781\n"
     ]
    }
   ],
   "source": [
    "n = 10.**np.array([0.0, -1.01, -3.44, -3.95, -3.07, -3.91, -5.67, -4.42, -5.53,\n",
    "                   -4.45, -4.79, -6.5, -5.44, -5.64, -4.33, -5.75])\n",
    "A = np.array([1,4, 12, 14, 16, 20.2, 23, 24.3, 27, 28.1, 32.1, 35.5, 39.9, 40.1, 55.8, 58.7])\n",
    "Z = np.array([1,2,6,7,8,10,11, 12, 13, 14, 16, 17, 18, 20, 26, 28])\n",
    "print('mu', (n*A).sum()/n.sum())\n",
    "print('mu', (n*A).sum()/(n*(1 + Z)).sum())\n",
    "print('muH', (n*A).sum()/n[0])"
   ]
  },
  {
   "cell_type": "markdown",
   "metadata": {},
   "source": [
    "* atomic gas \n",
    "$$\\mu=\\sum n_i A_i / \\sum n_i \\approx 1.2903$$\n",
    "\n",
    "* fully ionized gas\n",
    "$$\\mu=\\sum n_i A_i / \\sum n_i(1+Z_i) \\approx0.6145$$\n",
    "\n",
    "* Mean mass per H\n",
    "$$\\mu_H = \\sum n_i A_i / n_H \\approx 1.4185$$"
   ]
  },
  {
   "cell_type": "markdown",
   "metadata": {},
   "source": [
    "### From Table 6 (this is what I used for mean molecular weights)\n",
    "    \n",
    "* atomic ($\\log(T)<4$): $\\mu = 1.295$\n",
    "* fully ionized ($\\log(T)>5.5$): $\\mu = 0.6182$\n",
    "* $\\mu_H=1.4271$\n",
    "* Small descrepancy between the values here and Table 4 (above) may arise from $Z_i$ and $A_i$ I read in from a periodic table."
   ]
  }
 ],
 "metadata": {
  "kernelspec": {
   "display_name": "Python 3",
   "language": "python",
   "name": "python3"
  },
  "language_info": {
   "codemirror_mode": {
    "name": "ipython",
    "version": 3
   },
   "file_extension": ".py",
   "mimetype": "text/x-python",
   "name": "python",
   "nbconvert_exporter": "python",
   "pygments_lexer": "ipython3",
   "version": "3.7.5"
  }
 },
 "nbformat": 4,
 "nbformat_minor": 2
}
